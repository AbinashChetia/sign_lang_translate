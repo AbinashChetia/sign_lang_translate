{
 "cells": [
  {
   "cell_type": "code",
   "execution_count": 1,
   "metadata": {},
   "outputs": [],
   "source": [
    "import pickle as pk\n",
    "import wordsegment as ws\n",
    "import nltk\n",
    "import datetime as dt\n",
    "import time"
   ]
  },
  {
   "cell_type": "markdown",
   "metadata": {},
   "source": [
    "### Model Info"
   ]
  },
  {
   "cell_type": "code",
   "execution_count": 2,
   "metadata": {},
   "outputs": [],
   "source": [
    "model_dict = pk.load(open('trained_models/isl_model_2023_10_27_14_54_50.pickle', 'rb'))\n",
    "model1 = model_dict['model1']\n",
    "model2 = model_dict['model2']"
   ]
  },
  {
   "cell_type": "code",
   "execution_count": 3,
   "metadata": {},
   "outputs": [
    {
     "name": "stdout",
     "output_type": "stream",
     "text": [
      "Model 1:-\n",
      "\tIn-feats: 42\n",
      "\tOut-classes: 15\n",
      "Model 2:-\n",
      "\tIn-feats: 84\n",
      "\tOut-classes: 19\n"
     ]
    }
   ],
   "source": [
    "print('Model 1:-')\n",
    "print(f'\\tIn-feats: {model1.n_features_in_}')\n",
    "print(f'\\tOut-classes: {model1.n_classes_}')\n",
    "\n",
    "print('Model 2:-')\n",
    "print(f'\\tIn-feats: {model2.n_features_in_}')\n",
    "print(f'\\tOut-classes: {model2.n_classes_}')"
   ]
  },
  {
   "cell_type": "markdown",
   "metadata": {},
   "source": [
    "### Character Stream $\\rightarrow$ Words $\\rightarrow$ Sentences"
   ]
  },
  {
   "cell_type": "code",
   "execution_count": 4,
   "metadata": {},
   "outputs": [
    {
     "data": {
      "text/plain": [
       "['this', 'is', 'a', 'dog', 'and', 'it', 'loves', 'you']"
      ]
     },
     "execution_count": 4,
     "metadata": {},
     "output_type": "execute_result"
    }
   ],
   "source": [
    "char_stream = 'thisisadoganditlovesyou'\n",
    "ws.load()\n",
    "words = ws.segment(char_stream)\n",
    "words"
   ]
  },
  {
   "cell_type": "code",
   "execution_count": 5,
   "metadata": {},
   "outputs": [
    {
     "name": "stdout",
     "output_type": "stream",
     "text": [
      "[21:15:23]\tt \n",
      "[21:15:23]\tth \n",
      "[21:15:24]\tthi \n",
      "[21:15:24]\tthis \n",
      "[21:15:25]\tthis i \n",
      "[21:15:25]\tthis is \n",
      "[21:15:26]\tthis is a \n",
      "[21:15:26]\tthis is ad \n",
      "[21:15:27]\tthis is a do \n",
      "[21:15:27]\tthis is a dog \n",
      "[21:15:28]\tthis is a dog a \n",
      "[21:15:28]\tthis is a dog an \n",
      "[21:15:29]\tthis is a dog and \n",
      "[21:15:29]\tthis is a dog and i \n",
      "[21:15:30]\tthis is a dog and it \n",
      "[21:15:30]\tthis is a dog and it l \n",
      "[21:15:31]\tthis is a dog and it lo \n",
      "[21:15:31]\tthis is a dog and it lov \n",
      "[21:15:32]\tthis is a dog and it love \n",
      "[21:15:32]\tthis is a dog and it loves \n",
      "[21:15:33]\tthis is a dog and it loves y \n",
      "[21:15:33]\tthis is a dog and it loves yo \n",
      "[21:15:34]\tthis is a dog and it loves you \n"
     ]
    }
   ],
   "source": [
    "def time_now():\n",
    "    now = dt.datetime.now()\n",
    "    return now.strftime(\"%H:%M:%S\")\n",
    "\n",
    "sentence = ''\n",
    "for c in char_stream:\n",
    "    sentence += c\n",
    "    words = ws.segment(sentence)\n",
    "    print(f'[{time_now()}]', end='\\t')\n",
    "    for w in words:\n",
    "        print(f'{w}', end=' ')\n",
    "    print()\n",
    "    time.sleep(0.5)"
   ]
  }
 ],
 "metadata": {
  "kernelspec": {
   "display_name": "Python 3",
   "language": "python",
   "name": "python3"
  },
  "language_info": {
   "codemirror_mode": {
    "name": "ipython",
    "version": 3
   },
   "file_extension": ".py",
   "mimetype": "text/x-python",
   "name": "python",
   "nbconvert_exporter": "python",
   "pygments_lexer": "ipython3",
   "version": "3.11.6"
  }
 },
 "nbformat": 4,
 "nbformat_minor": 2
}
